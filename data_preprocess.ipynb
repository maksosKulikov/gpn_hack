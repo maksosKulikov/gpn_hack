{
 "cells": [
  {
   "cell_type": "markdown",
   "id": "0fd67f50",
   "metadata": {},
   "source": [
    "Немного изучил данные и хочу сделать первую обработку - исправить орфографические ошибки. Для этого я использую \"yandexgpt-lite\". Был опробован и другой способ - \"yandex speller\", который предназначен для исправления ошибок в тексте, однако, с длинными предложениями у него возникали проблемы. По этой причине я решил использовать gpt"
   ]
  },
  {
   "cell_type": "code",
   "execution_count": 1,
   "id": "4f3044c0",
   "metadata": {},
   "outputs": [],
   "source": [
    "from tqdm import tqdm\n",
    "import pandas as pd\n",
    "import requests\n",
    "import json"
   ]
  },
  {
   "cell_type": "code",
   "execution_count": 2,
   "id": "dd2fcefe",
   "metadata": {},
   "outputs": [],
   "source": [
    "with open(\"data.json\", encoding=\"UTF-8\") as file_in:\n",
    "    info = json.load(file_in)\n",
    "\n",
    "text = []\n",
    "for i in range(len(info)):\n",
    "    text.append(info[i][\"quote\"])"
   ]
  },
  {
   "cell_type": "code",
   "execution_count": 3,
   "id": "912c5124",
   "metadata": {},
   "outputs": [
    {
     "data": {
      "text/plain": [
       "'«У ннас среди ночi в райооне 55 часов упала полxа с водой в сттеклянной  таре, тоесть, посреди этой лужа, сстеккла, всёё, это уже поод утро, кстати, ээто не перрвыи раз,,, они сами по себе падают, как-то неправилььно рассчитывают, мы же должны выставлять по определённой картинке, у нас при мне было уже пару раз, чтоо сами по себе грохаются эти полки с буттылками» \\n\\n\\n'"
      ]
     },
     "execution_count": 3,
     "metadata": {},
     "output_type": "execute_result"
    }
   ],
   "source": [
    "text[0]"
   ]
  },
  {
   "cell_type": "markdown",
   "id": "1bdb8d75",
   "metadata": {},
   "source": [
    "По примеру выше видно, что с данными беда. Создаю dataFrame, в котором буду хранить текст без предобратботки и тот, который прошёл через yandexgpt. "
   ]
  },
  {
   "cell_type": "code",
   "execution_count": 4,
   "id": "1a0aeee3",
   "metadata": {},
   "outputs": [
    {
     "data": {
      "text/html": [
       "<div>\n",
       "<style scoped>\n",
       "    .dataframe tbody tr th:only-of-type {\n",
       "        vertical-align: middle;\n",
       "    }\n",
       "\n",
       "    .dataframe tbody tr th {\n",
       "        vertical-align: top;\n",
       "    }\n",
       "\n",
       "    .dataframe thead th {\n",
       "        text-align: right;\n",
       "    }\n",
       "</style>\n",
       "<table border=\"1\" class=\"dataframe\">\n",
       "  <thead>\n",
       "    <tr style=\"text-align: right;\">\n",
       "      <th></th>\n",
       "      <th>text_original</th>\n",
       "      <th>text_after_preprocess</th>\n",
       "    </tr>\n",
       "  </thead>\n",
       "  <tbody>\n",
       "    <tr>\n",
       "      <th>0</th>\n",
       "      <td>«У ннас среди ночi в райооне 55 часов упала по...</td>\n",
       "      <td>None</td>\n",
       "    </tr>\n",
       "    <tr>\n",
       "      <th>1</th>\n",
       "      <td>Программы повышения квалификации через гильдию...</td>\n",
       "      <td>None</td>\n",
       "    </tr>\n",
       "    <tr>\n",
       "      <th>2</th>\n",
       "      <td>\"Мурр... Новиград - город контрастов, да. Но в...</td>\n",
       "      <td>None</td>\n",
       "    </tr>\n",
       "    <tr>\n",
       "      <th>3</th>\n",
       "      <td>Типа, вот уже полгода, как мы ждем установки э...</td>\n",
       "      <td>None</td>\n",
       "    </tr>\n",
       "    <tr>\n",
       "      <th>4</th>\n",
       "      <td>\"Теперь всьё так просто! Раньше бумажки летали...</td>\n",
       "      <td>None</td>\n",
       "    </tr>\n",
       "  </tbody>\n",
       "</table>\n",
       "</div>"
      ],
      "text/plain": [
       "                                       text_original text_after_preprocess\n",
       "0  «У ннас среди ночi в райооне 55 часов упала по...                  None\n",
       "1  Программы повышения квалификации через гильдию...                  None\n",
       "2  \"Мурр... Новиград - город контрастов, да. Но в...                  None\n",
       "3  Типа, вот уже полгода, как мы ждем установки э...                  None\n",
       "4  \"Теперь всьё так просто! Раньше бумажки летали...                  None"
      ]
     },
     "execution_count": 4,
     "metadata": {},
     "output_type": "execute_result"
    }
   ],
   "source": [
    "df = pd.DataFrame({\"text_original\":text, \"text_after_preprocess\":[None] * len(text)})\n",
    "df.head()"
   ]
  },
  {
   "cell_type": "code",
   "execution_count": 2,
   "id": "f62e725f",
   "metadata": {},
   "outputs": [],
   "source": [
    "prompt = {\n",
    "    \"modelUri\": \"gpt://my_key/yandexgpt-lite\",\n",
    "    \"completionOptions\": {\n",
    "        \"stream\": False,\n",
    "        \"temperature\": 0.1,\n",
    "        \"maxTokens\": \"2000\"\n",
    "    },\n",
    "    \"messages\": [\n",
    "        {\n",
    "            \"role\": \"user\",\n",
    "            \"text\": \"\"\n",
    "        }\n",
    "    ]\n",
    "}\n",
    "\n",
    "url = \"https://llm.api.cloud.yandex.net/foundationModels/v1/completion\"\n",
    "headers = {\n",
    "    \"Content-Type\": \"application/json\",\n",
    "    \"Authorization\": \"Api-Key my_key\"\n",
    "}"
   ]
  },
  {
   "cell_type": "markdown",
   "id": "ac285737",
   "metadata": {},
   "source": [
    "Ещё раз убедимся, что в данных огромное количество символов. Надо от этого избавляться"
   ]
  },
  {
   "cell_type": "code",
   "execution_count": 6,
   "id": "0b1cdd0f",
   "metadata": {},
   "outputs": [],
   "source": [
    "def count_unique(data):\n",
    "    arr_set = set()\n",
    "    for item in data:\n",
    "        arr_set.update(item)\n",
    "    print(arr_set)\n",
    "    return f\"Количество уникальных элементов = {len(arr_set)}\""
   ]
  },
  {
   "cell_type": "code",
   "execution_count": 13,
   "id": "9f431bd8",
   "metadata": {},
   "outputs": [
    {
     "name": "stdout",
     "output_type": "stream",
     "text": [
      "{'2', 'ч', '»', '7', 'В', 'п', 'И', 'C', '☕', 'А', '6', 'х', '😜', '🤑', 'E', 'b', 'Щ', '/', 'ц', 'T', 'ë', 'Ж', '1', 'у', 'y', 'z', 'ü', '3', 'щ', 'Е', '😉', ',', '“', 'У', 'n', 'ї', 'ю', '-', 'Ф', 'і', 'Ш', 'с', 'к', 'а', '—', 'ё', 'o', 'ь', 'Н', '�', 'л', 'O', 'm', '\"', '5', 'Л', 'я', 'г', 'С', 'Б', 'и', '😡', '$', 'X', '9', 'D', 'q', 'k', '🏡', 'ö', 'ѣ', 'Ю', '.', 'ж', 'B', 'd', '^', 'ó', '€', 'з', 'Р', '💣', 'p', 'б', 'Ы', 'Z', '*', '4', 'й', 'р', '#', 'Д', 'Г', ';', '0', 'è', '🤬', 'é', \"'\", 'ъ', 'Ё', 'á', '😠', 'т', '&', 'О', '́', '<', 'e', 'v', 'о', 'Й', 'x', 'r', 't', 'Т', 'Э', 'З', '…', 'Х', '«', '+', 'R', 'є', 'ф', 'G', 'u', 'д', 'М', 'е', '\\xa0', '(', 'S', 's', 'ы', 'N', 'l', 'м', 'э', 'L', 'a', '🎉', 'в', 'h', 'ı', '”', 'ï', 'I', '😈', 'c', '?', 'ш', 'П', 'M', 'Ч', 'н', 'Я', '!', '@', ':', '8', 'g', 'ò', 'f', 'U', 'i', '%', 'К', 'Ь', 'w', 'Ц', ')', '🔥', '`', ' ', '\\n', 'A', 'ł', '\\\\', 'Q', 'j', 'Y', 'Δ', '–', 'ى', '№', '>', 'K'}\n"
     ]
    },
    {
     "data": {
      "text/plain": [
       "'Количество уникальных элементов = 188'"
      ]
     },
     "execution_count": 13,
     "metadata": {},
     "output_type": "execute_result"
    }
   ],
   "source": [
    "count_unique(list(df[\"text_original\"]))"
   ]
  },
  {
   "cell_type": "markdown",
   "id": "107cb34e",
   "metadata": {},
   "source": [
    "Сохраняю аббревиатуры в словарь. Аббревиатуры буду заменять на их расшифровки."
   ]
  },
  {
   "cell_type": "code",
   "execution_count": 4,
   "id": "5eb31577",
   "metadata": {},
   "outputs": [
    {
     "data": {
      "text/plain": [
       "{'СУОЧ': 'Система управления операционными чарами',\n",
       " 'ЗМС': 'Зачарованная маслостанция',\n",
       " 'НСС': 'Назаирская система слива',\n",
       " 'ЛДС': 'Лекарский договор страхования',\n",
       " 'ЦИСТ': 'Цинтрийский стандарт',\n",
       " 'СОКГ': 'Система оплаты карточкой гильдии'}"
      ]
     },
     "execution_count": 4,
     "metadata": {},
     "output_type": "execute_result"
    }
   ],
   "source": [
    "abbreviations_dict = {}\n",
    "with open(\"abbreviations.txt\", encoding=\"UTF-8\") as file:\n",
    "    for line in file:\n",
    "        data = line.split(\" - \")\n",
    "        abbreviations_dict[data[0]] = data[1][:-1]\n",
    "abbreviations_dict"
   ]
  },
  {
   "cell_type": "markdown",
   "id": "d69ab5dc",
   "metadata": {},
   "source": [
    "Прохожусь по каждому объекту данных, заменяю аббревиатуры на их расшифровки и прошу yandexgpt вернуть текст без ошибок. Обработанный текст созраняю в DataFrame"
   ]
  },
  {
   "cell_type": "code",
   "execution_count": 18,
   "id": "be6c79d3",
   "metadata": {
    "scrolled": true
   },
   "outputs": [
    {
     "name": "stderr",
     "output_type": "stream",
     "text": [
      "100%|████████████████████████████████████████████████████████████████████████████████████████████████████████████████████████████████████████████| 959/959 [18:20<00:00,  1.15s/it]\n"
     ]
    }
   ],
   "source": [
    "text_list = list(df[\"text_original\"])\n",
    "text_list_new = []\n",
    "\n",
    "for i in tqdm(range(len(df))):\n",
    "    if df.loc[i][\"text_after_preprocess\"] is not None:\n",
    "        continue\n",
    "    \n",
    "    new_text = df.loc[i][\"text_original\"]\n",
    "    \n",
    "    new_text = new_text.strip()\n",
    "    \n",
    "    new_text_arr = new_text.split(\" \")\n",
    "    \n",
    "    for j in range(len(new_text_arr)):\n",
    "        if new_text_arr[j] in abbreviations_dict:\n",
    "            new_text_arr[j] = abbreviations_dict[new_text_arr[j]]\n",
    "           \n",
    "    new_text = \" \".join(new_text_arr)\n",
    "    \n",
    "    prompt_text = \"Исправь орфографические ошибки в тексте и больше ничего не добавляй в начале и конце текста: \"\n",
    "    \n",
    "    prompt[\"messages\"][0][\"text\"] = prompt_text + new_text\n",
    "    response = requests.post(url, headers=headers, json=prompt)\n",
    "    result = response.text\n",
    "\n",
    "    start_index = result.find('\"text\":') + len('\"text\":')\n",
    "    end_index = result.find('\"},\"status')\n",
    "    new_text = result[start_index+1:end_index]\n",
    "   \n",
    "    df.at[i, \"text_after_preprocess\"] = new_text"
   ]
  },
  {
   "cell_type": "markdown",
   "id": "4abfab1b",
   "metadata": {},
   "source": [
    "Видно, что текст стал более читабельным"
   ]
  },
  {
   "cell_type": "code",
   "execution_count": 9,
   "id": "0fc692bd",
   "metadata": {},
   "outputs": [
    {
     "data": {
      "text/html": [
       "<div>\n",
       "<style scoped>\n",
       "    .dataframe tbody tr th:only-of-type {\n",
       "        vertical-align: middle;\n",
       "    }\n",
       "\n",
       "    .dataframe tbody tr th {\n",
       "        vertical-align: top;\n",
       "    }\n",
       "\n",
       "    .dataframe thead th {\n",
       "        text-align: right;\n",
       "    }\n",
       "</style>\n",
       "<table border=\"1\" class=\"dataframe\">\n",
       "  <thead>\n",
       "    <tr style=\"text-align: right;\">\n",
       "      <th></th>\n",
       "      <th>text_original</th>\n",
       "      <th>text_after_preprocess</th>\n",
       "    </tr>\n",
       "  </thead>\n",
       "  <tbody>\n",
       "    <tr>\n",
       "      <th>0</th>\n",
       "      <td>«У ннас среди ночi в райооне 55 часов упала по...</td>\n",
       "      <td>У нас среди ночи в районе 55 часов упала полка...</td>\n",
       "    </tr>\n",
       "    <tr>\n",
       "      <th>1</th>\n",
       "      <td>Программы повышения квалификации через гильдию...</td>\n",
       "      <td>Программы повышения квалификации через гильдию...</td>\n",
       "    </tr>\n",
       "    <tr>\n",
       "      <th>2</th>\n",
       "      <td>\"Мурр... Новиград - город контрастов, да. Но в...</td>\n",
       "      <td>Мурр... Новиград — город контрастов, да. Но в ...</td>\n",
       "    </tr>\n",
       "    <tr>\n",
       "      <th>3</th>\n",
       "      <td>Типа, вот уже полгода, как мы ждем установки э...</td>\n",
       "      <td>Вот уже полгода, как мы ждём установки этих фи...</td>\n",
       "    </tr>\n",
       "    <tr>\n",
       "      <th>4</th>\n",
       "      <td>\"Теперь всьё так просто! Раньше бумажки летали...</td>\n",
       "      <td>Теперь всё так просто! Раньше бумаги летали, т...</td>\n",
       "    </tr>\n",
       "  </tbody>\n",
       "</table>\n",
       "</div>"
      ],
      "text/plain": [
       "                                       text_original  \\\n",
       "0  «У ннас среди ночi в райооне 55 часов упала по...   \n",
       "1  Программы повышения квалификации через гильдию...   \n",
       "2  \"Мурр... Новиград - город контрастов, да. Но в...   \n",
       "3  Типа, вот уже полгода, как мы ждем установки э...   \n",
       "4  \"Теперь всьё так просто! Раньше бумажки летали...   \n",
       "\n",
       "                               text_after_preprocess  \n",
       "0  У нас среди ночи в районе 55 часов упала полка...  \n",
       "1  Программы повышения квалификации через гильдию...  \n",
       "2  Мурр... Новиград — город контрастов, да. Но в ...  \n",
       "3  Вот уже полгода, как мы ждём установки этих фи...  \n",
       "4  Теперь всё так просто! Раньше бумаги летали, т...  "
      ]
     },
     "execution_count": 9,
     "metadata": {},
     "output_type": "execute_result"
    }
   ],
   "source": [
    "df.head(5)"
   ]
  },
  {
   "cell_type": "markdown",
   "id": "dde89f96",
   "metadata": {},
   "source": [
    "Сократилось количество уникальных символов. Полное удаление ненужных символов будет произведено в другом ноутбуке"
   ]
  },
  {
   "cell_type": "code",
   "execution_count": 8,
   "id": "ba9f74e5",
   "metadata": {},
   "outputs": [
    {
     "name": "stdout",
     "output_type": "stream",
     "text": [
      "{'c', 'м', 'е', 'ц', '0', '́', 'D', 'у', 'y', ' ', '…', 'b', 'G', '😠', '7', ']', '(', 'к', 'M', 'В', 'Г', '»', '🤑', 'Ч', 'У', '*', '8', '5', 'Э', ',', '😈', 'А', 'J', 'в', 'N', 'd', 'ш', 'я', 'Ф', 's', 'о', 'П', '“', '.', 'ё', '6', 'Б', 'п', 'И', '2', 'т', 'ы', 'r', 'н', 'ф', 'ъ', '🎉', 'а', 'э', 'm', '[', '😡', '💣', 'х', 'Л', 'u', 'o', 'i', 'с', '3', '😉', 'K', 'ж', 'О', '9', 'Р', 'К', 'Е', 'г', 'Ж', 'З', 'С', '–', 'и', 'Ш', 'Q', 'д', 'щ', 'р', ':', 'l', 'n', 'Х', '1', 'P', 'Д', 'A', 'O', 'л', '?', 't', '@', '-', ')', 'б', 'Н', 'T', 'Ц', '—', 'ю', 'ч', '\\\\', '🔥', 'М', 'ь', '%', \"'\", 'V', 'p', 'Я', 'e', 'R', '«', '4', '/', 'й', 'h', ';', '!', 'Щ', 'з', 'Т', '„', 'L', 'a'}\n"
     ]
    },
    {
     "data": {
      "text/plain": [
       "'Количество уникальных элементов = 135'"
      ]
     },
     "execution_count": 8,
     "metadata": {},
     "output_type": "execute_result"
    }
   ],
   "source": [
    "count_unique(list(df[\"text_after_preprocess\"]))"
   ]
  },
  {
   "cell_type": "markdown",
   "id": "cee6c253",
   "metadata": {},
   "source": [
    "Сохраняю новые объекты и буду продолжать с ними работу в другом ноутбуке."
   ]
  },
  {
   "cell_type": "code",
   "execution_count": 20,
   "id": "1aeca130",
   "metadata": {},
   "outputs": [],
   "source": [
    "df.to_csv(\"data_after_preprocess.csv\", index=False)"
   ]
  },
  {
   "cell_type": "code",
   "execution_count": 10,
   "id": "5a6c8a3c",
   "metadata": {},
   "outputs": [
    {
     "data": {
      "text/html": [
       "<div>\n",
       "<style scoped>\n",
       "    .dataframe tbody tr th:only-of-type {\n",
       "        vertical-align: middle;\n",
       "    }\n",
       "\n",
       "    .dataframe tbody tr th {\n",
       "        vertical-align: top;\n",
       "    }\n",
       "\n",
       "    .dataframe thead th {\n",
       "        text-align: right;\n",
       "    }\n",
       "</style>\n",
       "<table border=\"1\" class=\"dataframe\">\n",
       "  <thead>\n",
       "    <tr style=\"text-align: right;\">\n",
       "      <th></th>\n",
       "      <th>text_original</th>\n",
       "      <th>text_after_preprocess</th>\n",
       "    </tr>\n",
       "  </thead>\n",
       "  <tbody>\n",
       "    <tr>\n",
       "      <th>0</th>\n",
       "      <td>«У ннас среди ночi в райооне 55 часов упала по...</td>\n",
       "      <td>У нас среди ночи в районе 55 часов упала полка...</td>\n",
       "    </tr>\n",
       "    <tr>\n",
       "      <th>1</th>\n",
       "      <td>Программы повышения квалификации через гильдию...</td>\n",
       "      <td>Программы повышения квалификации через гильдию...</td>\n",
       "    </tr>\n",
       "    <tr>\n",
       "      <th>2</th>\n",
       "      <td>\"Мурр... Новиград - город контрастов, да. Но в...</td>\n",
       "      <td>Мурр... Новиград — город контрастов, да. Но в ...</td>\n",
       "    </tr>\n",
       "    <tr>\n",
       "      <th>3</th>\n",
       "      <td>Типа, вот уже полгода, как мы ждем установки э...</td>\n",
       "      <td>Вот уже полгода, как мы ждём установки этих фи...</td>\n",
       "    </tr>\n",
       "    <tr>\n",
       "      <th>4</th>\n",
       "      <td>\"Теперь всьё так просто! Раньше бумажки летали...</td>\n",
       "      <td>Теперь всё так просто! Раньше бумаги летали, т...</td>\n",
       "    </tr>\n",
       "  </tbody>\n",
       "</table>\n",
       "</div>"
      ],
      "text/plain": [
       "                                       text_original  \\\n",
       "0  «У ннас среди ночi в райооне 55 часов упала по...   \n",
       "1  Программы повышения квалификации через гильдию...   \n",
       "2  \"Мурр... Новиград - город контрастов, да. Но в...   \n",
       "3  Типа, вот уже полгода, как мы ждем установки э...   \n",
       "4  \"Теперь всьё так просто! Раньше бумажки летали...   \n",
       "\n",
       "                               text_after_preprocess  \n",
       "0  У нас среди ночи в районе 55 часов упала полка...  \n",
       "1  Программы повышения квалификации через гильдию...  \n",
       "2  Мурр... Новиград — город контрастов, да. Но в ...  \n",
       "3  Вот уже полгода, как мы ждём установки этих фи...  \n",
       "4  Теперь всё так просто! Раньше бумаги летали, т...  "
      ]
     },
     "execution_count": 10,
     "metadata": {},
     "output_type": "execute_result"
    }
   ],
   "source": [
    "df_test = pd.read_csv(\"data_after_preprocess.csv\")\n",
    "df_test.head()"
   ]
  }
 ],
 "metadata": {
  "kernelspec": {
   "display_name": "Python 3 (ipykernel)",
   "language": "python",
   "name": "python3"
  },
  "language_info": {
   "codemirror_mode": {
    "name": "ipython",
    "version": 3
   },
   "file_extension": ".py",
   "mimetype": "text/x-python",
   "name": "python",
   "nbconvert_exporter": "python",
   "pygments_lexer": "ipython3",
   "version": "3.11.4"
  }
 },
 "nbformat": 4,
 "nbformat_minor": 5
}
